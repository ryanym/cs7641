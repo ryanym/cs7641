{
 "cells": [
  {
   "cell_type": "code",
   "execution_count": 3,
   "metadata": {
    "pycharm": {
     "is_executing": false
    }
   },
   "outputs": [],
   "source": [
    "import numpy as np\n",
    "import pandas as pd\n",
    "from time import time\n",
    "import matplotlib.pyplot as plt\n",
    "import warnings\n",
    "warnings.filterwarnings('ignore')\n",
    "from sklearn import preprocessing\n",
    "\n",
    "%matplotlib inline\n",
    "\n",
    "label_encoder = preprocessing.LabelEncoder()"
   ]
  },
  {
   "cell_type": "code",
   "execution_count": 8,
   "metadata": {
    "pycharm": {
     "is_executing": false
    }
   },
   "outputs": [],
   "source": [
    "data1 = pd.read_csv(\"data/phishing_websites.csv\").astype('category')\n",
    "data2 = pd.read_csv(\"data/online_shoppers_intention.csv\")\n",
    "data1.drop(['id'], axis=1, inplace=True)\n"
   ]
  },
  {
   "cell_type": "markdown",
   "metadata": {},
   "source": [
    "### phishing data preprocessing"
   ]
  },
  {
   "cell_type": "code",
   "execution_count": 9,
   "metadata": {
    "scrolled": false,
    "pycharm": {
     "is_executing": false
    }
   },
   "outputs": [
    {
     "data": {
      "text/plain": "        URL_Length_-1  URL_Length_0  URL_Length_1  having_Sub_Domain_-1  \\\ncount    11055.000000  11055.000000  11055.000000          11055.000000   \nunique            NaN           NaN           NaN                   NaN   \ntop               NaN           NaN           NaN                   NaN   \nfreq              NaN           NaN           NaN                   NaN   \nmean         0.810493      0.012212      0.177295              0.304206   \nstd          0.391929      0.109835      0.381936              0.460091   \nmin          0.000000      0.000000      0.000000              0.000000   \n25%          1.000000      0.000000      0.000000              0.000000   \n50%          1.000000      0.000000      0.000000              0.000000   \n75%          1.000000      0.000000      0.000000              1.000000   \nmax          1.000000      1.000000      1.000000              1.000000   \n\n        having_Sub_Domain_0  having_Sub_Domain_1  SSLfinal_State_-1  \\\ncount          11055.000000         11055.000000       11055.000000   \nunique                  NaN                  NaN                NaN   \ntop                     NaN                  NaN                NaN   \nfreq                    NaN                  NaN                NaN   \nmean               0.327635             0.368159           0.321755   \nstd                0.469372             0.482327           0.467171   \nmin                0.000000             0.000000           0.000000   \n25%                0.000000             0.000000           0.000000   \n50%                0.000000             0.000000           0.000000   \n75%                1.000000             1.000000           1.000000   \nmax                1.000000             1.000000           1.000000   \n\n        SSLfinal_State_0  SSLfinal_State_1  URL_of_Anchor_-1  ...  \\\ncount       11055.000000      11055.000000      11055.000000  ...   \nunique               NaN               NaN               NaN  ...   \ntop                  NaN               NaN               NaN  ...   \nfreq                 NaN               NaN               NaN  ...   \nmean            0.105563          0.572682          0.296879  ...   \nstd             0.307292          0.494711          0.456904  ...   \nmin             0.000000          0.000000          0.000000  ...   \n25%             0.000000          0.000000          0.000000  ...   \n50%             0.000000          1.000000          0.000000  ...   \n75%             0.000000          1.000000          1.000000  ...   \nmax             1.000000          1.000000          1.000000  ...   \n\n        on_mouseover  RightClick  popUpWidnow   Iframe  age_of_domain  \\\ncount        11055.0     11055.0      11055.0  11055.0        11055.0   \nunique           2.0         2.0          2.0      2.0            2.0   \ntop              1.0         1.0          1.0      1.0            1.0   \nfreq          9740.0     10579.0       8918.0  10043.0         5866.0   \nmean             NaN         NaN          NaN      NaN            NaN   \nstd              NaN         NaN          NaN      NaN            NaN   \nmin              NaN         NaN          NaN      NaN            NaN   \n25%              NaN         NaN          NaN      NaN            NaN   \n50%              NaN         NaN          NaN      NaN            NaN   \n75%              NaN         NaN          NaN      NaN            NaN   \nmax              NaN         NaN          NaN      NaN            NaN   \n\n        DNSRecord  Page_Rank  Google_Index  Statistical_report   Result  \ncount     11055.0    11055.0       11055.0             11055.0  11055.0  \nunique        2.0        2.0           2.0                 2.0      2.0  \ntop           1.0       -1.0           1.0                 1.0      1.0  \nfreq       7612.0     8201.0        9516.0              9505.0   6157.0  \nmean          NaN        NaN           NaN                 NaN      NaN  \nstd           NaN        NaN           NaN                 NaN      NaN  \nmin           NaN        NaN           NaN                 NaN      NaN  \n25%           NaN        NaN           NaN                 NaN      NaN  \n50%           NaN        NaN           NaN                 NaN      NaN  \n75%           NaN        NaN           NaN                 NaN      NaN  \nmax           NaN        NaN           NaN                 NaN      NaN  \n\n[11 rows x 47 columns]",
      "text/html": "<div>\n<style scoped>\n    .dataframe tbody tr th:only-of-type {\n        vertical-align: middle;\n    }\n\n    .dataframe tbody tr th {\n        vertical-align: top;\n    }\n\n    .dataframe thead th {\n        text-align: right;\n    }\n</style>\n<table border=\"1\" class=\"dataframe\">\n  <thead>\n    <tr style=\"text-align: right;\">\n      <th></th>\n      <th>URL_Length_-1</th>\n      <th>URL_Length_0</th>\n      <th>URL_Length_1</th>\n      <th>having_Sub_Domain_-1</th>\n      <th>having_Sub_Domain_0</th>\n      <th>having_Sub_Domain_1</th>\n      <th>SSLfinal_State_-1</th>\n      <th>SSLfinal_State_0</th>\n      <th>SSLfinal_State_1</th>\n      <th>URL_of_Anchor_-1</th>\n      <th>...</th>\n      <th>on_mouseover</th>\n      <th>RightClick</th>\n      <th>popUpWidnow</th>\n      <th>Iframe</th>\n      <th>age_of_domain</th>\n      <th>DNSRecord</th>\n      <th>Page_Rank</th>\n      <th>Google_Index</th>\n      <th>Statistical_report</th>\n      <th>Result</th>\n    </tr>\n  </thead>\n  <tbody>\n    <tr>\n      <th>count</th>\n      <td>11055.000000</td>\n      <td>11055.000000</td>\n      <td>11055.000000</td>\n      <td>11055.000000</td>\n      <td>11055.000000</td>\n      <td>11055.000000</td>\n      <td>11055.000000</td>\n      <td>11055.000000</td>\n      <td>11055.000000</td>\n      <td>11055.000000</td>\n      <td>...</td>\n      <td>11055.0</td>\n      <td>11055.0</td>\n      <td>11055.0</td>\n      <td>11055.0</td>\n      <td>11055.0</td>\n      <td>11055.0</td>\n      <td>11055.0</td>\n      <td>11055.0</td>\n      <td>11055.0</td>\n      <td>11055.0</td>\n    </tr>\n    <tr>\n      <th>unique</th>\n      <td>NaN</td>\n      <td>NaN</td>\n      <td>NaN</td>\n      <td>NaN</td>\n      <td>NaN</td>\n      <td>NaN</td>\n      <td>NaN</td>\n      <td>NaN</td>\n      <td>NaN</td>\n      <td>NaN</td>\n      <td>...</td>\n      <td>2.0</td>\n      <td>2.0</td>\n      <td>2.0</td>\n      <td>2.0</td>\n      <td>2.0</td>\n      <td>2.0</td>\n      <td>2.0</td>\n      <td>2.0</td>\n      <td>2.0</td>\n      <td>2.0</td>\n    </tr>\n    <tr>\n      <th>top</th>\n      <td>NaN</td>\n      <td>NaN</td>\n      <td>NaN</td>\n      <td>NaN</td>\n      <td>NaN</td>\n      <td>NaN</td>\n      <td>NaN</td>\n      <td>NaN</td>\n      <td>NaN</td>\n      <td>NaN</td>\n      <td>...</td>\n      <td>1.0</td>\n      <td>1.0</td>\n      <td>1.0</td>\n      <td>1.0</td>\n      <td>1.0</td>\n      <td>1.0</td>\n      <td>-1.0</td>\n      <td>1.0</td>\n      <td>1.0</td>\n      <td>1.0</td>\n    </tr>\n    <tr>\n      <th>freq</th>\n      <td>NaN</td>\n      <td>NaN</td>\n      <td>NaN</td>\n      <td>NaN</td>\n      <td>NaN</td>\n      <td>NaN</td>\n      <td>NaN</td>\n      <td>NaN</td>\n      <td>NaN</td>\n      <td>NaN</td>\n      <td>...</td>\n      <td>9740.0</td>\n      <td>10579.0</td>\n      <td>8918.0</td>\n      <td>10043.0</td>\n      <td>5866.0</td>\n      <td>7612.0</td>\n      <td>8201.0</td>\n      <td>9516.0</td>\n      <td>9505.0</td>\n      <td>6157.0</td>\n    </tr>\n    <tr>\n      <th>mean</th>\n      <td>0.810493</td>\n      <td>0.012212</td>\n      <td>0.177295</td>\n      <td>0.304206</td>\n      <td>0.327635</td>\n      <td>0.368159</td>\n      <td>0.321755</td>\n      <td>0.105563</td>\n      <td>0.572682</td>\n      <td>0.296879</td>\n      <td>...</td>\n      <td>NaN</td>\n      <td>NaN</td>\n      <td>NaN</td>\n      <td>NaN</td>\n      <td>NaN</td>\n      <td>NaN</td>\n      <td>NaN</td>\n      <td>NaN</td>\n      <td>NaN</td>\n      <td>NaN</td>\n    </tr>\n    <tr>\n      <th>std</th>\n      <td>0.391929</td>\n      <td>0.109835</td>\n      <td>0.381936</td>\n      <td>0.460091</td>\n      <td>0.469372</td>\n      <td>0.482327</td>\n      <td>0.467171</td>\n      <td>0.307292</td>\n      <td>0.494711</td>\n      <td>0.456904</td>\n      <td>...</td>\n      <td>NaN</td>\n      <td>NaN</td>\n      <td>NaN</td>\n      <td>NaN</td>\n      <td>NaN</td>\n      <td>NaN</td>\n      <td>NaN</td>\n      <td>NaN</td>\n      <td>NaN</td>\n      <td>NaN</td>\n    </tr>\n    <tr>\n      <th>min</th>\n      <td>0.000000</td>\n      <td>0.000000</td>\n      <td>0.000000</td>\n      <td>0.000000</td>\n      <td>0.000000</td>\n      <td>0.000000</td>\n      <td>0.000000</td>\n      <td>0.000000</td>\n      <td>0.000000</td>\n      <td>0.000000</td>\n      <td>...</td>\n      <td>NaN</td>\n      <td>NaN</td>\n      <td>NaN</td>\n      <td>NaN</td>\n      <td>NaN</td>\n      <td>NaN</td>\n      <td>NaN</td>\n      <td>NaN</td>\n      <td>NaN</td>\n      <td>NaN</td>\n    </tr>\n    <tr>\n      <th>25%</th>\n      <td>1.000000</td>\n      <td>0.000000</td>\n      <td>0.000000</td>\n      <td>0.000000</td>\n      <td>0.000000</td>\n      <td>0.000000</td>\n      <td>0.000000</td>\n      <td>0.000000</td>\n      <td>0.000000</td>\n      <td>0.000000</td>\n      <td>...</td>\n      <td>NaN</td>\n      <td>NaN</td>\n      <td>NaN</td>\n      <td>NaN</td>\n      <td>NaN</td>\n      <td>NaN</td>\n      <td>NaN</td>\n      <td>NaN</td>\n      <td>NaN</td>\n      <td>NaN</td>\n    </tr>\n    <tr>\n      <th>50%</th>\n      <td>1.000000</td>\n      <td>0.000000</td>\n      <td>0.000000</td>\n      <td>0.000000</td>\n      <td>0.000000</td>\n      <td>0.000000</td>\n      <td>0.000000</td>\n      <td>0.000000</td>\n      <td>1.000000</td>\n      <td>0.000000</td>\n      <td>...</td>\n      <td>NaN</td>\n      <td>NaN</td>\n      <td>NaN</td>\n      <td>NaN</td>\n      <td>NaN</td>\n      <td>NaN</td>\n      <td>NaN</td>\n      <td>NaN</td>\n      <td>NaN</td>\n      <td>NaN</td>\n    </tr>\n    <tr>\n      <th>75%</th>\n      <td>1.000000</td>\n      <td>0.000000</td>\n      <td>0.000000</td>\n      <td>1.000000</td>\n      <td>1.000000</td>\n      <td>1.000000</td>\n      <td>1.000000</td>\n      <td>0.000000</td>\n      <td>1.000000</td>\n      <td>1.000000</td>\n      <td>...</td>\n      <td>NaN</td>\n      <td>NaN</td>\n      <td>NaN</td>\n      <td>NaN</td>\n      <td>NaN</td>\n      <td>NaN</td>\n      <td>NaN</td>\n      <td>NaN</td>\n      <td>NaN</td>\n      <td>NaN</td>\n    </tr>\n    <tr>\n      <th>max</th>\n      <td>1.000000</td>\n      <td>1.000000</td>\n      <td>1.000000</td>\n      <td>1.000000</td>\n      <td>1.000000</td>\n      <td>1.000000</td>\n      <td>1.000000</td>\n      <td>1.000000</td>\n      <td>1.000000</td>\n      <td>1.000000</td>\n      <td>...</td>\n      <td>NaN</td>\n      <td>NaN</td>\n      <td>NaN</td>\n      <td>NaN</td>\n      <td>NaN</td>\n      <td>NaN</td>\n      <td>NaN</td>\n      <td>NaN</td>\n      <td>NaN</td>\n      <td>NaN</td>\n    </tr>\n  </tbody>\n</table>\n<p>11 rows × 47 columns</p>\n</div>"
     },
     "metadata": {},
     "output_type": "execute_result",
     "execution_count": 9
    }
   ],
   "source": [
    "col_to_one_hot = []\n",
    "for i, col in enumerate(data1):\n",
    "    # print(col, data1[col].unique())\n",
    "    if data1[col].unique().size > 2:\n",
    "        col_to_one_hot.append(col)\n",
    "df_one_hot = data1[col_to_one_hot]\n",
    "df_one_hot = pd.get_dummies(df_one_hot)\n",
    "df_other = data1.drop(col_to_one_hot, axis=1)\n",
    "data1 = pd.concat([df_one_hot, df_other], axis=1)\n",
    "data1.head()\n",
    "data1.describe(include='all')"
   ]
  },
  {
   "cell_type": "markdown",
   "metadata": {},
   "source": [
    "\n",
    "### online shopper data preprocessing"
   ]
  },
  {
   "cell_type": "code",
   "execution_count": 15,
   "metadata": {},
   "outputs": [
    {
     "data": {
      "text/html": [
       "<div>\n",
       "<style scoped>\n",
       "    .dataframe tbody tr th:only-of-type {\n",
       "        vertical-align: middle;\n",
       "    }\n",
       "\n",
       "    .dataframe tbody tr th {\n",
       "        vertical-align: top;\n",
       "    }\n",
       "\n",
       "    .dataframe thead th {\n",
       "        text-align: right;\n",
       "    }\n",
       "</style>\n",
       "<table border=\"1\" class=\"dataframe\">\n",
       "  <thead>\n",
       "    <tr style=\"text-align: right;\">\n",
       "      <th></th>\n",
       "      <th>Administrative</th>\n",
       "      <th>Administrative_Duration</th>\n",
       "      <th>Informational</th>\n",
       "      <th>Informational_Duration</th>\n",
       "      <th>ProductRelated</th>\n",
       "      <th>ProductRelated_Duration</th>\n",
       "      <th>BounceRates</th>\n",
       "      <th>ExitRates</th>\n",
       "      <th>PageValues</th>\n",
       "      <th>SpecialDay</th>\n",
       "      <th>OperatingSystems</th>\n",
       "      <th>Browser</th>\n",
       "      <th>Region</th>\n",
       "      <th>TrafficType</th>\n",
       "      <th>Month</th>\n",
       "      <th>VisitorType</th>\n",
       "      <th>Weekend</th>\n",
       "      <th>Revenue</th>\n",
       "    </tr>\n",
       "  </thead>\n",
       "  <tbody>\n",
       "    <tr>\n",
       "      <th>0</th>\n",
       "      <td>0</td>\n",
       "      <td>0.0</td>\n",
       "      <td>0</td>\n",
       "      <td>0.0</td>\n",
       "      <td>1</td>\n",
       "      <td>0.000000</td>\n",
       "      <td>0.20</td>\n",
       "      <td>0.20</td>\n",
       "      <td>0.0</td>\n",
       "      <td>0.0</td>\n",
       "      <td>1</td>\n",
       "      <td>1</td>\n",
       "      <td>1</td>\n",
       "      <td>1</td>\n",
       "      <td>2</td>\n",
       "      <td>2</td>\n",
       "      <td>0</td>\n",
       "      <td>0</td>\n",
       "    </tr>\n",
       "    <tr>\n",
       "      <th>1</th>\n",
       "      <td>0</td>\n",
       "      <td>0.0</td>\n",
       "      <td>0</td>\n",
       "      <td>0.0</td>\n",
       "      <td>2</td>\n",
       "      <td>64.000000</td>\n",
       "      <td>0.00</td>\n",
       "      <td>0.10</td>\n",
       "      <td>0.0</td>\n",
       "      <td>0.0</td>\n",
       "      <td>2</td>\n",
       "      <td>2</td>\n",
       "      <td>1</td>\n",
       "      <td>2</td>\n",
       "      <td>2</td>\n",
       "      <td>2</td>\n",
       "      <td>0</td>\n",
       "      <td>0</td>\n",
       "    </tr>\n",
       "    <tr>\n",
       "      <th>2</th>\n",
       "      <td>0</td>\n",
       "      <td>0.0</td>\n",
       "      <td>0</td>\n",
       "      <td>0.0</td>\n",
       "      <td>1</td>\n",
       "      <td>0.000000</td>\n",
       "      <td>0.20</td>\n",
       "      <td>0.20</td>\n",
       "      <td>0.0</td>\n",
       "      <td>0.0</td>\n",
       "      <td>4</td>\n",
       "      <td>1</td>\n",
       "      <td>9</td>\n",
       "      <td>3</td>\n",
       "      <td>2</td>\n",
       "      <td>2</td>\n",
       "      <td>0</td>\n",
       "      <td>0</td>\n",
       "    </tr>\n",
       "    <tr>\n",
       "      <th>3</th>\n",
       "      <td>0</td>\n",
       "      <td>0.0</td>\n",
       "      <td>0</td>\n",
       "      <td>0.0</td>\n",
       "      <td>2</td>\n",
       "      <td>2.666667</td>\n",
       "      <td>0.05</td>\n",
       "      <td>0.14</td>\n",
       "      <td>0.0</td>\n",
       "      <td>0.0</td>\n",
       "      <td>3</td>\n",
       "      <td>2</td>\n",
       "      <td>2</td>\n",
       "      <td>4</td>\n",
       "      <td>2</td>\n",
       "      <td>2</td>\n",
       "      <td>0</td>\n",
       "      <td>0</td>\n",
       "    </tr>\n",
       "    <tr>\n",
       "      <th>4</th>\n",
       "      <td>0</td>\n",
       "      <td>0.0</td>\n",
       "      <td>0</td>\n",
       "      <td>0.0</td>\n",
       "      <td>10</td>\n",
       "      <td>627.500000</td>\n",
       "      <td>0.02</td>\n",
       "      <td>0.05</td>\n",
       "      <td>0.0</td>\n",
       "      <td>0.0</td>\n",
       "      <td>3</td>\n",
       "      <td>3</td>\n",
       "      <td>1</td>\n",
       "      <td>4</td>\n",
       "      <td>2</td>\n",
       "      <td>2</td>\n",
       "      <td>1</td>\n",
       "      <td>0</td>\n",
       "    </tr>\n",
       "  </tbody>\n",
       "</table>\n",
       "</div>"
      ],
      "text/plain": [
       "   Administrative  Administrative_Duration  Informational  \\\n",
       "0               0                      0.0              0   \n",
       "1               0                      0.0              0   \n",
       "2               0                      0.0              0   \n",
       "3               0                      0.0              0   \n",
       "4               0                      0.0              0   \n",
       "\n",
       "   Informational_Duration  ProductRelated  ProductRelated_Duration  \\\n",
       "0                     0.0               1                 0.000000   \n",
       "1                     0.0               2                64.000000   \n",
       "2                     0.0               1                 0.000000   \n",
       "3                     0.0               2                 2.666667   \n",
       "4                     0.0              10               627.500000   \n",
       "\n",
       "   BounceRates  ExitRates  PageValues  SpecialDay  OperatingSystems  Browser  \\\n",
       "0         0.20       0.20         0.0         0.0                 1        1   \n",
       "1         0.00       0.10         0.0         0.0                 2        2   \n",
       "2         0.20       0.20         0.0         0.0                 4        1   \n",
       "3         0.05       0.14         0.0         0.0                 3        2   \n",
       "4         0.02       0.05         0.0         0.0                 3        3   \n",
       "\n",
       "   Region  TrafficType  Month  VisitorType  Weekend  Revenue  \n",
       "0       1            1      2            2        0        0  \n",
       "1       1            2      2            2        0        0  \n",
       "2       9            3      2            2        0        0  \n",
       "3       2            4      2            2        0        0  \n",
       "4       1            4      2            2        1        0  "
      ]
     },
     "execution_count": 15,
     "metadata": {},
     "output_type": "execute_result"
    }
   ],
   "source": [
    "columns_to_encode = ['Month', 'VisitorType','Weekend','Revenue']\n",
    "label_encoder = preprocessing.LabelEncoder()\n",
    "df = data2[columns_to_encode]\n",
    "df = df.apply(label_encoder.fit_transform)\n",
    "data2 = data2.drop(columns_to_encode, axis=1)\n",
    "data2 = pd.concat([data2, df], axis=1)\n",
    "data2.head()\n"
   ]
  },
  {
   "cell_type": "code",
   "execution_count": 6,
   "metadata": {},
   "outputs": [
    {
     "data": {
      "text/plain": [
       "<matplotlib.axes._subplots.AxesSubplot at 0x7f52f754cf28>"
      ]
     },
     "execution_count": 6,
     "metadata": {},
     "output_type": "execute_result"
    },
    {
     "data": {
      "image/png": "[encoded data removed]",
      "text/plain": [
       "<Figure size 432x288 with 1 Axes>"
      ]
     },
     "metadata": {},
     "output_type": "display_data"
    }
   ],
   "source": [
    "data2['ProductRelated_Duration'].hist(bins=4)"
   ]
  }
 ],
 "metadata": {
  "kernelspec": {
   "display_name": "Python 3",
   "language": "python",
   "name": "python3"
  },
  "language_info": {
   "codemirror_mode": {
    "name": "ipython",
    "version": 3
   },
   "file_extension": ".py",
   "mimetype": "text/x-python",
   "name": "python",
   "nbconvert_exporter": "python",
   "pygments_lexer": "ipython3",
   "version": "3.6.9"
  },
  "pycharm": {
   "stem_cell": {
    "cell_type": "raw",
    "source": [],
    "metadata": {
     "collapsed": false
    }
   }
  }
 },
 "nbformat": 4,
 "nbformat_minor": 2
}