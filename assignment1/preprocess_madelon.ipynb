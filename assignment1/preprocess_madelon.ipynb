{
 "cells": [
  {
   "cell_type": "code",
   "execution_count": 10,
   "metadata": {
    "collapsed": true
   },
   "outputs": [],
   "source": [
    "%matplotlib inline\n",
    "%config InlineBackend.figure_format = 'svg'\n",
    "import pandas as pd\n",
    "import numpy as np\n",
    "import matplotlib.pyplot as plt\n",
    "import seaborn as sns\n",
    "sns.set_style('white')\n",
    "madelon_train = './data/madelon_train.data'\n",
    "madelon_train_labels = './data/madelon_train.labels'"
   ]
  },
  {
   "cell_type": "code",
   "execution_count": 19,
   "outputs": [
    {
     "data": {
      "text/plain": "    0    1    2    3    4    5    6    7    8    9    ...  490  491  492  493  \\\n0   485  477  537  479  452  471  491  476  475  473  ...  477  481  477  485   \n1   483  458  460  487  587  475  526  479  485  469  ...  463  478  487  338   \n2   487  542  499  468  448  471  442  478  480  477  ...  487  481  492  650   \n3   480  491  510  485  495  472  417  474  502  476  ...  491  480  474  572   \n4   484  502  528  489  466  481  402  478  487  468  ...  488  479  452  435   \n5   481  496  451  480  516  484  484  476  500  482  ...  478  481  477  435   \n6   484  533  498  466  577  482  471  477  476  468  ...  472  483  490  648   \n7   474  468  598  490  530  482  448  476  497  489  ...  469  479  511  351   \n8   484  498  558  489  508  478  471  478  488  470  ...  473  478  478  633   \n9   496  448  570  476  477  481  595  477  465  490  ...  485  476  447  576   \n10  478  446  457  475  468  475  482  479  478  473  ...  515  479  506  491   \n11  486  479  528  483  530  484  479  477  462  487  ...  492  476  498  599   \n12  466  486  540  492  500  475  491  474  505  475  ...  464  481  459  696   \n13  477  510  536  497  481  488  556  478  486  475  ...  480  481  490  649   \n14  490  454  491  476  517  489  459  477  508  482  ...  480  484  485  633   \n15  485  472  536  485  497  466  530  478  475  475  ...  470  481  501  732   \n16  483  506  450  490  519  484  455  476  473  468  ...  509  470  502  207   \n17  485  481  428  478  531  469  468  477  473  471  ...  477  479  503  549   \n18  475  454  539  467  510  480  498  477  505  473  ...  479  479  470  627   \n19  472  485  461  483  533  484  569  480  496  471  ...  505  479  449  363   \n\n    494  495  496  497  498  499  \n0   511  485  481  479  475  496  \n1   513  486  483  492  510  517  \n2   506  501  480  489  499  498  \n3   454  469  475  482  494  461  \n4   486  508  481  504  495  511  \n5   491  564  482  463  457  500  \n6   484  475  479  475  462  484  \n7   462  533  480  501  529  489  \n8   453  556  458  473  531  440  \n9   511  508  478  486  582  496  \n10  512  476  471  501  550  517  \n11  459  452  475  496  505  485  \n12  470  503  473  493  506  522  \n13  486  520  485  480  500  485  \n14  562  482  474  500  535  474  \n15  509  548  479  500  529  539  \n16  547  479  476  461  520  504  \n17  506  574  483  496  521  495  \n18  509  451  476  479  540  506  \n19  495  536  484  494  503  447  \n\n[20 rows x 500 columns]",
      "text/html": "<div>\n<style scoped>\n    .dataframe tbody tr th:only-of-type {\n        vertical-align: middle;\n    }\n\n    .dataframe tbody tr th {\n        vertical-align: top;\n    }\n\n    .dataframe thead th {\n        text-align: right;\n    }\n</style>\n<table border=\"1\" class=\"dataframe\">\n  <thead>\n    <tr style=\"text-align: right;\">\n      <th></th>\n      <th>0</th>\n      <th>1</th>\n      <th>2</th>\n      <th>3</th>\n      <th>4</th>\n      <th>5</th>\n      <th>6</th>\n      <th>7</th>\n      <th>8</th>\n      <th>9</th>\n      <th>...</th>\n      <th>490</th>\n      <th>491</th>\n      <th>492</th>\n      <th>493</th>\n      <th>494</th>\n      <th>495</th>\n      <th>496</th>\n      <th>497</th>\n      <th>498</th>\n      <th>499</th>\n    </tr>\n  </thead>\n  <tbody>\n    <tr>\n      <th>0</th>\n      <td>485</td>\n      <td>477</td>\n      <td>537</td>\n      <td>479</td>\n      <td>452</td>\n      <td>471</td>\n      <td>491</td>\n      <td>476</td>\n      <td>475</td>\n      <td>473</td>\n      <td>...</td>\n      <td>477</td>\n      <td>481</td>\n      <td>477</td>\n      <td>485</td>\n      <td>511</td>\n      <td>485</td>\n      <td>481</td>\n      <td>479</td>\n      <td>475</td>\n      <td>496</td>\n    </tr>\n    <tr>\n      <th>1</th>\n      <td>483</td>\n      <td>458</td>\n      <td>460</td>\n      <td>487</td>\n      <td>587</td>\n      <td>475</td>\n      <td>526</td>\n      <td>479</td>\n      <td>485</td>\n      <td>469</td>\n      <td>...</td>\n      <td>463</td>\n      <td>478</td>\n      <td>487</td>\n      <td>338</td>\n      <td>513</td>\n      <td>486</td>\n      <td>483</td>\n      <td>492</td>\n      <td>510</td>\n      <td>517</td>\n    </tr>\n    <tr>\n      <th>2</th>\n      <td>487</td>\n      <td>542</td>\n      <td>499</td>\n      <td>468</td>\n      <td>448</td>\n      <td>471</td>\n      <td>442</td>\n      <td>478</td>\n      <td>480</td>\n      <td>477</td>\n      <td>...</td>\n      <td>487</td>\n      <td>481</td>\n      <td>492</td>\n      <td>650</td>\n      <td>506</td>\n      <td>501</td>\n      <td>480</td>\n      <td>489</td>\n      <td>499</td>\n      <td>498</td>\n    </tr>\n    <tr>\n      <th>3</th>\n      <td>480</td>\n      <td>491</td>\n      <td>510</td>\n      <td>485</td>\n      <td>495</td>\n      <td>472</td>\n      <td>417</td>\n      <td>474</td>\n      <td>502</td>\n      <td>476</td>\n      <td>...</td>\n      <td>491</td>\n      <td>480</td>\n      <td>474</td>\n      <td>572</td>\n      <td>454</td>\n      <td>469</td>\n      <td>475</td>\n      <td>482</td>\n      <td>494</td>\n      <td>461</td>\n    </tr>\n    <tr>\n      <th>4</th>\n      <td>484</td>\n      <td>502</td>\n      <td>528</td>\n      <td>489</td>\n      <td>466</td>\n      <td>481</td>\n      <td>402</td>\n      <td>478</td>\n      <td>487</td>\n      <td>468</td>\n      <td>...</td>\n      <td>488</td>\n      <td>479</td>\n      <td>452</td>\n      <td>435</td>\n      <td>486</td>\n      <td>508</td>\n      <td>481</td>\n      <td>504</td>\n      <td>495</td>\n      <td>511</td>\n    </tr>\n    <tr>\n      <th>5</th>\n      <td>481</td>\n      <td>496</td>\n      <td>451</td>\n      <td>480</td>\n      <td>516</td>\n      <td>484</td>\n      <td>484</td>\n      <td>476</td>\n      <td>500</td>\n      <td>482</td>\n      <td>...</td>\n      <td>478</td>\n      <td>481</td>\n      <td>477</td>\n      <td>435</td>\n      <td>491</td>\n      <td>564</td>\n      <td>482</td>\n      <td>463</td>\n      <td>457</td>\n      <td>500</td>\n    </tr>\n    <tr>\n      <th>6</th>\n      <td>484</td>\n      <td>533</td>\n      <td>498</td>\n      <td>466</td>\n      <td>577</td>\n      <td>482</td>\n      <td>471</td>\n      <td>477</td>\n      <td>476</td>\n      <td>468</td>\n      <td>...</td>\n      <td>472</td>\n      <td>483</td>\n      <td>490</td>\n      <td>648</td>\n      <td>484</td>\n      <td>475</td>\n      <td>479</td>\n      <td>475</td>\n      <td>462</td>\n      <td>484</td>\n    </tr>\n    <tr>\n      <th>7</th>\n      <td>474</td>\n      <td>468</td>\n      <td>598</td>\n      <td>490</td>\n      <td>530</td>\n      <td>482</td>\n      <td>448</td>\n      <td>476</td>\n      <td>497</td>\n      <td>489</td>\n      <td>...</td>\n      <td>469</td>\n      <td>479</td>\n      <td>511</td>\n      <td>351</td>\n      <td>462</td>\n      <td>533</td>\n      <td>480</td>\n      <td>501</td>\n      <td>529</td>\n      <td>489</td>\n    </tr>\n    <tr>\n      <th>8</th>\n      <td>484</td>\n      <td>498</td>\n      <td>558</td>\n      <td>489</td>\n      <td>508</td>\n      <td>478</td>\n      <td>471</td>\n      <td>478</td>\n      <td>488</td>\n      <td>470</td>\n      <td>...</td>\n      <td>473</td>\n      <td>478</td>\n      <td>478</td>\n      <td>633</td>\n      <td>453</td>\n      <td>556</td>\n      <td>458</td>\n      <td>473</td>\n      <td>531</td>\n      <td>440</td>\n    </tr>\n    <tr>\n      <th>9</th>\n      <td>496</td>\n      <td>448</td>\n      <td>570</td>\n      <td>476</td>\n      <td>477</td>\n      <td>481</td>\n      <td>595</td>\n      <td>477</td>\n      <td>465</td>\n      <td>490</td>\n      <td>...</td>\n      <td>485</td>\n      <td>476</td>\n      <td>447</td>\n      <td>576</td>\n      <td>511</td>\n      <td>508</td>\n      <td>478</td>\n      <td>486</td>\n      <td>582</td>\n      <td>496</td>\n    </tr>\n    <tr>\n      <th>10</th>\n      <td>478</td>\n      <td>446</td>\n      <td>457</td>\n      <td>475</td>\n      <td>468</td>\n      <td>475</td>\n      <td>482</td>\n      <td>479</td>\n      <td>478</td>\n      <td>473</td>\n      <td>...</td>\n      <td>515</td>\n      <td>479</td>\n      <td>506</td>\n      <td>491</td>\n      <td>512</td>\n      <td>476</td>\n      <td>471</td>\n      <td>501</td>\n      <td>550</td>\n      <td>517</td>\n    </tr>\n    <tr>\n      <th>11</th>\n      <td>486</td>\n      <td>479</td>\n      <td>528</td>\n      <td>483</td>\n      <td>530</td>\n      <td>484</td>\n      <td>479</td>\n      <td>477</td>\n      <td>462</td>\n      <td>487</td>\n      <td>...</td>\n      <td>492</td>\n      <td>476</td>\n      <td>498</td>\n      <td>599</td>\n      <td>459</td>\n      <td>452</td>\n      <td>475</td>\n      <td>496</td>\n      <td>505</td>\n      <td>485</td>\n    </tr>\n    <tr>\n      <th>12</th>\n      <td>466</td>\n      <td>486</td>\n      <td>540</td>\n      <td>492</td>\n      <td>500</td>\n      <td>475</td>\n      <td>491</td>\n      <td>474</td>\n      <td>505</td>\n      <td>475</td>\n      <td>...</td>\n      <td>464</td>\n      <td>481</td>\n      <td>459</td>\n      <td>696</td>\n      <td>470</td>\n      <td>503</td>\n      <td>473</td>\n      <td>493</td>\n      <td>506</td>\n      <td>522</td>\n    </tr>\n    <tr>\n      <th>13</th>\n      <td>477</td>\n      <td>510</td>\n      <td>536</td>\n      <td>497</td>\n      <td>481</td>\n      <td>488</td>\n      <td>556</td>\n      <td>478</td>\n      <td>486</td>\n      <td>475</td>\n      <td>...</td>\n      <td>480</td>\n      <td>481</td>\n      <td>490</td>\n      <td>649</td>\n      <td>486</td>\n      <td>520</td>\n      <td>485</td>\n      <td>480</td>\n      <td>500</td>\n      <td>485</td>\n    </tr>\n    <tr>\n      <th>14</th>\n      <td>490</td>\n      <td>454</td>\n      <td>491</td>\n      <td>476</td>\n      <td>517</td>\n      <td>489</td>\n      <td>459</td>\n      <td>477</td>\n      <td>508</td>\n      <td>482</td>\n      <td>...</td>\n      <td>480</td>\n      <td>484</td>\n      <td>485</td>\n      <td>633</td>\n      <td>562</td>\n      <td>482</td>\n      <td>474</td>\n      <td>500</td>\n      <td>535</td>\n      <td>474</td>\n    </tr>\n    <tr>\n      <th>15</th>\n      <td>485</td>\n      <td>472</td>\n      <td>536</td>\n      <td>485</td>\n      <td>497</td>\n      <td>466</td>\n      <td>530</td>\n      <td>478</td>\n      <td>475</td>\n      <td>475</td>\n      <td>...</td>\n      <td>470</td>\n      <td>481</td>\n      <td>501</td>\n      <td>732</td>\n      <td>509</td>\n      <td>548</td>\n      <td>479</td>\n      <td>500</td>\n      <td>529</td>\n      <td>539</td>\n    </tr>\n    <tr>\n      <th>16</th>\n      <td>483</td>\n      <td>506</td>\n      <td>450</td>\n      <td>490</td>\n      <td>519</td>\n      <td>484</td>\n      <td>455</td>\n      <td>476</td>\n      <td>473</td>\n      <td>468</td>\n      <td>...</td>\n      <td>509</td>\n      <td>470</td>\n      <td>502</td>\n      <td>207</td>\n      <td>547</td>\n      <td>479</td>\n      <td>476</td>\n      <td>461</td>\n      <td>520</td>\n      <td>504</td>\n    </tr>\n    <tr>\n      <th>17</th>\n      <td>485</td>\n      <td>481</td>\n      <td>428</td>\n      <td>478</td>\n      <td>531</td>\n      <td>469</td>\n      <td>468</td>\n      <td>477</td>\n      <td>473</td>\n      <td>471</td>\n      <td>...</td>\n      <td>477</td>\n      <td>479</td>\n      <td>503</td>\n      <td>549</td>\n      <td>506</td>\n      <td>574</td>\n      <td>483</td>\n      <td>496</td>\n      <td>521</td>\n      <td>495</td>\n    </tr>\n    <tr>\n      <th>18</th>\n      <td>475</td>\n      <td>454</td>\n      <td>539</td>\n      <td>467</td>\n      <td>510</td>\n      <td>480</td>\n      <td>498</td>\n      <td>477</td>\n      <td>505</td>\n      <td>473</td>\n      <td>...</td>\n      <td>479</td>\n      <td>479</td>\n      <td>470</td>\n      <td>627</td>\n      <td>509</td>\n      <td>451</td>\n      <td>476</td>\n      <td>479</td>\n      <td>540</td>\n      <td>506</td>\n    </tr>\n    <tr>\n      <th>19</th>\n      <td>472</td>\n      <td>485</td>\n      <td>461</td>\n      <td>483</td>\n      <td>533</td>\n      <td>484</td>\n      <td>569</td>\n      <td>480</td>\n      <td>496</td>\n      <td>471</td>\n      <td>...</td>\n      <td>505</td>\n      <td>479</td>\n      <td>449</td>\n      <td>363</td>\n      <td>495</td>\n      <td>536</td>\n      <td>484</td>\n      <td>494</td>\n      <td>503</td>\n      <td>447</td>\n    </tr>\n  </tbody>\n</table>\n<p>20 rows × 500 columns</p>\n</div>"
     },
     "execution_count": 19,
     "metadata": {},
     "output_type": "execute_result"
    }
   ],
   "source": [
    "madelon_train_df = pd.read_csv(madelon_train, delimiter=' ', header=None)\n",
    "# madelon_train_df = madelon_train_df.dropna()\n",
    "madelon_train_df = madelon_train_df.drop([500], axis=1)\n",
    "madelon_train_df.head(20)\n",
    "# madelon_train_labels_df.shape"
   ],
   "metadata": {
    "collapsed": false,
    "pycharm": {
     "name": "#%%\n"
    }
   }
  },
  {
   "cell_type": "code",
   "execution_count": 21,
   "outputs": [
    {
     "data": {
      "text/plain": "    target\n0       -1\n1       -1\n2       -1\n3        1\n4        1\n5        1\n6        1\n7       -1\n8        1\n9       -1\n10      -1\n11      -1\n12       1\n13      -1\n14      -1\n15      -1\n16      -1\n17       1\n18      -1\n19       1",
      "text/html": "<div>\n<style scoped>\n    .dataframe tbody tr th:only-of-type {\n        vertical-align: middle;\n    }\n\n    .dataframe tbody tr th {\n        vertical-align: top;\n    }\n\n    .dataframe thead th {\n        text-align: right;\n    }\n</style>\n<table border=\"1\" class=\"dataframe\">\n  <thead>\n    <tr style=\"text-align: right;\">\n      <th></th>\n      <th>target</th>\n    </tr>\n  </thead>\n  <tbody>\n    <tr>\n      <th>0</th>\n      <td>-1</td>\n    </tr>\n    <tr>\n      <th>1</th>\n      <td>-1</td>\n    </tr>\n    <tr>\n      <th>2</th>\n      <td>-1</td>\n    </tr>\n    <tr>\n      <th>3</th>\n      <td>1</td>\n    </tr>\n    <tr>\n      <th>4</th>\n      <td>1</td>\n    </tr>\n    <tr>\n      <th>5</th>\n      <td>1</td>\n    </tr>\n    <tr>\n      <th>6</th>\n      <td>1</td>\n    </tr>\n    <tr>\n      <th>7</th>\n      <td>-1</td>\n    </tr>\n    <tr>\n      <th>8</th>\n      <td>1</td>\n    </tr>\n    <tr>\n      <th>9</th>\n      <td>-1</td>\n    </tr>\n    <tr>\n      <th>10</th>\n      <td>-1</td>\n    </tr>\n    <tr>\n      <th>11</th>\n      <td>-1</td>\n    </tr>\n    <tr>\n      <th>12</th>\n      <td>1</td>\n    </tr>\n    <tr>\n      <th>13</th>\n      <td>-1</td>\n    </tr>\n    <tr>\n      <th>14</th>\n      <td>-1</td>\n    </tr>\n    <tr>\n      <th>15</th>\n      <td>-1</td>\n    </tr>\n    <tr>\n      <th>16</th>\n      <td>-1</td>\n    </tr>\n    <tr>\n      <th>17</th>\n      <td>1</td>\n    </tr>\n    <tr>\n      <th>18</th>\n      <td>-1</td>\n    </tr>\n    <tr>\n      <th>19</th>\n      <td>1</td>\n    </tr>\n  </tbody>\n</table>\n</div>"
     },
     "execution_count": 21,
     "metadata": {},
     "output_type": "execute_result"
    }
   ],
   "source": [
    "madelon_train_labels_df = pd.read_csv(madelon_train_labels, delimiter=' ', header=None, names=['target'])\n",
    "madelon_train_labels_df.shape\n",
    "\n",
    "madelon_train_labels_df.head(20)"
   ],
   "metadata": {
    "collapsed": false,
    "pycharm": {
     "name": "#%%\n"
    }
   }
  },
  {
   "cell_type": "code",
   "execution_count": 20,
   "outputs": [],
   "source": [],
   "metadata": {
    "collapsed": false,
    "pycharm": {
     "name": "#%%\n"
    }
   }
  },
  {
   "cell_type": "code",
   "execution_count": null,
   "outputs": [],
   "source": [],
   "metadata": {
    "collapsed": false,
    "pycharm": {
     "name": "#%%\n"
    }
   }
  }
 ],
 "metadata": {
  "kernelspec": {
   "name": "pycharm-9b15215",
   "language": "python",
   "display_name": "PyCharm (assignment1)"
  },
  "language_info": {
   "codemirror_mode": {
    "name": "ipython",
    "version": 2
   },
   "file_extension": ".py",
   "mimetype": "text/x-python",
   "name": "python",
   "nbconvert_exporter": "python",
   "pygments_lexer": "ipython2",
   "version": "2.7.6"
  }
 },
 "nbformat": 4,
 "nbformat_minor": 0
}