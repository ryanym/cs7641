{
 "cells": [
  {
   "cell_type": "code",
   "execution_count": 7,
   "metadata": {
    "collapsed": true
   },
   "outputs": [],
   "source": [
    "import numpy as np\n",
    "import pandas as pd\n",
    "import matplotlib.pyplot as plt\n",
    "from sklearn import preprocessing\n",
    "import mlrose_hiive\n",
    "from sklearn.metrics import f1_score\n",
    "from functools import partial\n",
    "from mlrose_hiive.generators import QueensGenerator\n",
    "from mlrose_hiive.algorithms import GeomDecay\n",
    "from sklearn.model_selection import cross_validate, train_test_split\n"
   ]
  },
  {
   "cell_type": "code",
   "execution_count": 8,
   "outputs": [],
   "source": [
    "madelon_train = './data/madelon_train.data'\n",
    "madelon_train_labels = './data/madelon_train.labels'\n",
    "\n",
    "X2 = pd.read_csv(madelon_train, delimiter=' ', header=None)\n",
    "X2 = X2.drop([500], axis=1)\n",
    "y2 = pd.read_csv(madelon_train_labels, delimiter=' ', header=None, names=['target'])\n",
    "X2_train, X2_test, y2_train, y2_test = train_test_split(X2, y2, test_size=0.2, shuffle=True)"
   ],
   "metadata": {
    "collapsed": false,
    "pycharm": {
     "name": "#%%\n"
    }
   }
  },
  {
   "cell_type": "code",
   "execution_count": 9,
   "outputs": [],
   "source": [
    "grid_search_parameters = ({\n",
    "  'learning_rate': [0.01],\n",
    "  'restarts': [5, 25, 50],\n",
    "  'activation': [mlrose_hiive.neural.activation.relu]\n",
    "})\n",
    "f1_labs = partial(f1_score, average=\"weighted\")\n",
    "hidden_layer_size = [[5,5,5,5,5]]"
   ],
   "metadata": {
    "collapsed": false,
    "pycharm": {
     "name": "#%%\n"
    }
   }
  },
  {
   "cell_type": "code",
   "execution_count": null,
   "outputs": [
    {
     "name": "stdout",
     "output_type": "stream",
     "text": [
      "Running nngs_rhc\n",
      "Fitting 5 folds for each of 6 candidates, totalling 30 fits\n"
     ]
    },
    {
     "name": "stderr",
     "output_type": "stream",
     "text": [
      "[Parallel(n_jobs=-2)]: Using backend LokyBackend with 11 concurrent workers.\n"
     ]
    }
   ],
   "source": [
    "rhc_nn = mlrose_hiive.NNGSRunner(X2_train,\n",
    "                                y2_train,\n",
    "                                 X2_test,\n",
    "                                 y2_test,\n",
    "                                 \"NN\",\n",
    "                                 output_directory=\"./\",\n",
    "                                 seed=0, iteration_list=[10000],\n",
    "                                 algorithm=mlrose_hiive.random_hill_climb,\n",
    "                                 hidden_layer_sizes=hidden_layer_size,\n",
    "                                 grid_search_parameters=grid_search_parameters,\n",
    "                                 grid_search_scorer_method=f1_labs,\n",
    "                                 n_jobs=-1, cv=5)\n",
    "rhc_stats = rhc_nn.run()"
   ],
   "metadata": {
    "collapsed": false,
    "pycharm": {
     "name": "#%%\n"
    }
   }
  },
  {
   "cell_type": "code",
   "execution_count": 1,
   "outputs": [
    {
     "ename": "NameError",
     "evalue": "name 'rhc_stats' is not defined",
     "output_type": "error",
     "traceback": [
      "\u001B[0;31m---------------------------------------------------------------------------\u001B[0m",
      "\u001B[0;31mNameError\u001B[0m                                 Traceback (most recent call last)",
      "\u001B[0;32m<ipython-input-1-da3377ad8214>\u001B[0m in \u001B[0;36m<module>\u001B[0;34m\u001B[0m\n\u001B[0;32m----> 1\u001B[0;31m \u001B[0mrhc_stats\u001B[0m\u001B[0;34m\u001B[0m\u001B[0;34m\u001B[0m\u001B[0m\n\u001B[0m\u001B[1;32m      2\u001B[0m \u001B[0;34m\u001B[0m\u001B[0m\n",
      "\u001B[0;31mNameError\u001B[0m: name 'rhc_stats' is not defined"
     ]
    }
   ],
   "source": [
    "rhc_stats\n"
   ],
   "metadata": {
    "collapsed": false,
    "pycharm": {
     "name": "#%%\n"
    }
   }
  },
  {
   "cell_type": "code",
   "execution_count": null,
   "outputs": [],
   "source": [
    "sa_nn = mlrose_hiive.NNGSRunner(X2_train,\n",
    "                                y2_train,\n",
    "                                 X2_test,\n",
    "                                 y2_test,\n",
    "                                 \"NN\",\n",
    "                                 output_directory=\"./\",\n",
    "                                 seed=0, iteration_list=[10000],\n",
    "                                 algorithm=mlrose_hiive.simulated_annealing,\n",
    "                                 hidden_layer_sizes=hidden_layer_size,\n",
    "                                 grid_search_parameters=grid_search_parameters,\n",
    "                                 grid_search_scorer_method=f1_labs,\n",
    "                                 n_jobs=-1, cv=5)\n",
    "sa_stats = sa_nn.run()"
   ],
   "metadata": {
    "collapsed": false,
    "pycharm": {
     "name": "#%%\n"
    }
   }
  },
  {
   "cell_type": "code",
   "execution_count": 1,
   "outputs": [
    {
     "ename": "NameError",
     "evalue": "name 'sa_stats' is not defined",
     "output_type": "error",
     "traceback": [
      "\u001B[0;31m---------------------------------------------------------------------------\u001B[0m",
      "\u001B[0;31mNameError\u001B[0m                                 Traceback (most recent call last)",
      "\u001B[0;32m<ipython-input-1-df082ac1b02c>\u001B[0m in \u001B[0;36m<module>\u001B[0;34m\u001B[0m\n\u001B[0;32m----> 1\u001B[0;31m \u001B[0msa_stats\u001B[0m\u001B[0;34m\u001B[0m\u001B[0;34m\u001B[0m\u001B[0m\n\u001B[0m\u001B[1;32m      2\u001B[0m \u001B[0;34m\u001B[0m\u001B[0m\n",
      "\u001B[0;31mNameError\u001B[0m: name 'sa_stats' is not defined"
     ]
    }
   ],
   "source": [
    "sa_stats\n"
   ],
   "metadata": {
    "collapsed": false,
    "pycharm": {
     "name": "#%%\n"
    }
   }
  },
  {
   "cell_type": "code",
   "execution_count": null,
   "outputs": [],
   "source": [
    "ga_nn = mlrose_hiive.NNGSRunner(X2_train,\n",
    "                                y2_train,\n",
    "                                 X2_test,\n",
    "                                 y2_test,\n",
    "                                 \"NN\",\n",
    "                                 output_directory=\"./\",\n",
    "                                 seed=0, iteration_list=[10000],\n",
    "                                 algorithm=mlrose_hiive.genetic_alg,\n",
    "                                 hidden_layer_sizes=hidden_layer_size,\n",
    "                                 grid_search_parameters=grid_search_parameters,\n",
    "                                 grid_search_scorer_method=f1_labs,\n",
    "                                 n_jobs=-1, cv=5)\n",
    "ga_stats = ga_nn.run()"
   ],
   "metadata": {
    "collapsed": false,
    "pycharm": {
     "name": "#%%\n"
    }
   }
  },
  {
   "cell_type": "code",
   "execution_count": null,
   "outputs": [],
   "source": [
    "ga_stats"
   ],
   "metadata": {
    "collapsed": false,
    "pycharm": {
     "name": "#%%\n"
    }
   }
  }
 ],
 "metadata": {
  "kernelspec": {
   "display_name": "Python 3",
   "language": "python",
   "name": "python3"
  },
  "language_info": {
   "codemirror_mode": {
    "name": "ipython",
    "version": 2
   },
   "file_extension": ".py",
   "mimetype": "text/x-python",
   "name": "python",
   "nbconvert_exporter": "python",
   "pygments_lexer": "ipython2",
   "version": "2.7.6"
  }
 },
 "nbformat": 4,
 "nbformat_minor": 0
}